{
 "cells": [
  {
   "cell_type": "markdown",
   "id": "07798c3d",
   "metadata": {},
   "source": [
    "# Proyecto 1\n",
    "\n",
    "Integrantes:\n",
    "- Francis Aguilar - 22243\n",
    "- César López - 22535\n",
    "- Angela García -22869\n"
   ]
  },
  {
   "cell_type": "code",
   "execution_count": 308,
   "id": "15fc6a9c",
   "metadata": {},
   "outputs": [],
   "source": [
    "import pandas as pd\n",
    "import numpy as np\n",
    "import sys\n",
    "import os\n",
    "import lxml"
   ]
  },
  {
   "cell_type": "code",
   "execution_count": 309,
   "id": "927e5d7b",
   "metadata": {},
   "outputs": [
    {
     "name": "stdout",
     "output_type": "stream",
     "text": [
      "Ya existe: ALTA VERAPAZ.csv, se omite.\n",
      "Ya existe: BAJA VERAPAZ.csv, se omite.\n",
      "Ya existe: CHIMALTENANGO.csv, se omite.\n",
      "Ya existe: CHIQUIMULA.csv, se omite.\n",
      "Ya existe: CIUDAD CAPITAL.csv, se omite.\n",
      "Ya existe: EL PROGRESO.csv, se omite.\n",
      "Ya existe: ESCUINTLA.csv, se omite.\n",
      "Ya existe: GUATEMALA.csv, se omite.\n",
      "Ya existe: HUEHUETENANGO.csv, se omite.\n",
      "Ya existe: IZABAL.csv, se omite.\n",
      "Ya existe: JALAPA.csv, se omite.\n",
      "Ya existe: JUTIAPA.csv, se omite.\n",
      "Ya existe: PETEN.csv, se omite.\n",
      "Ya existe: QUETZALTENANGO.csv, se omite.\n",
      "Ya existe: QUICHE.csv, se omite.\n",
      "Ya existe: RETALHULEU.csv, se omite.\n",
      "Ya existe: SACATEPEQUEZ.csv, se omite.\n",
      "Ya existe: SAN MARCOS.csv, se omite.\n",
      "Ya existe: SANTA ROSA.csv, se omite.\n",
      "Ya existe: SOLOLA.csv, se omite.\n",
      "Ya existe: SUCHITEPEQUEZ.csv, se omite.\n",
      "Ya existe: TOTONICAPAN.csv, se omite.\n",
      "Ya existe: ZACAPA.csv, se omite.\n",
      "Se finalizo la conversion\n"
     ]
    }
   ],
   "source": [
    "carpeta = 'xlss' \n",
    "carpeta_salida = 'data' \n",
    "os.makedirs(carpeta_salida, exist_ok=True)\n",
    "\n",
    "#nombres de las columnas esperadas\n",
    "columnas = [\n",
    "    'CODIGO', 'DISTRITO', 'DEPARTAMENTO', 'MUNICIPIO', 'ESTABLECIMIENTO',\n",
    "    'DIRECCION', 'TELEFONO', 'SUPERVISOR', 'DIRECTOR', 'NIVEL', 'SECTOR',\n",
    "    'AREA', 'STATUS', 'MODALIDAD', 'JORNADA', 'PLAN', 'DEPARTAMENTAL'\n",
    "]\n",
    "\n",
    "\n",
    "for archivo in os.listdir(carpeta):\n",
    "    if archivo.endswith(\".xls\"):\n",
    "        ruta_archivo = os.path.join(carpeta, archivo)\n",
    "        nombre_csv = os.path.splitext(archivo)[0] + \".csv\"\n",
    "        ruta_csv = os.path.join(carpeta_salida, nombre_csv)\n",
    "\n",
    "        if os.path.exists(ruta_csv):\n",
    "            print(f\"Ya existe: {nombre_csv}, se omite.\")\n",
    "            continue\n",
    "        try:\n",
    "            tablas = pd.read_html(ruta_archivo)\n",
    "            tabla_principal = max(tablas, key=lambda df: df.shape[1])\n",
    "\n",
    "            # reemplazar los nombres de columnas, porque sino sale con numeros del 1 al 17\n",
    "            if tabla_principal.shape[1] == len(columnas):\n",
    "                tabla_principal.columns = columnas\n",
    "                tabla_principal = tabla_principal.iloc[1:] # Eliminar la primera fila que suele ser un encabezado adicional\n",
    "            else:\n",
    "                print(f\"Columnas no coinciden en {archivo}, se omite renombrado.\")\n",
    "\n",
    "            tabla_principal.to_csv(ruta_csv, index=False)\n",
    "            print(f\"Convertido: {archivo} → {nombre_csv}\")\n",
    "\n",
    "        except Exception as e:\n",
    "            print(f\"Error al procesar {archivo}: {e}\")\n",
    "\n",
    "print(\"Se finalizo la conversion\")\n"
   ]
  },
  {
   "cell_type": "code",
   "execution_count": 310,
   "id": "05dc0cc6",
   "metadata": {},
   "outputs": [
    {
     "name": "stdout",
     "output_type": "stream",
     "text": [
      "Agregado: ALTA VERAPAZ.csv\n",
      "Agregado: BAJA VERAPAZ.csv\n",
      "Agregado: CHIMALTENANGO.csv\n",
      "Agregado: CHIQUIMULA.csv\n",
      "Agregado: CIUDAD CAPITAL.csv\n",
      "Agregado: EL PROGRESO.csv\n",
      "Agregado: ESCUINTLA.csv\n",
      "Agregado: GUATEMALA.csv\n",
      "Agregado: HUEHUETENANGO.csv\n",
      "Agregado: IZABAL.csv\n",
      "Agregado: JALAPA.csv\n",
      "Agregado: JUTIAPA.csv\n",
      "Agregado: PETEN.csv\n",
      "Agregado: QUETZALTENANGO.csv\n",
      "Agregado: QUICHE.csv\n",
      "Agregado: RETALHULEU.csv\n",
      "Agregado: SACATEPEQUEZ.csv\n",
      "Agregado: SAN MARCOS.csv\n",
      "Agregado: SANTA ROSA.csv\n",
      "Agregado: SOLOLA.csv\n",
      "Agregado: SUCHITEPEQUEZ.csv\n",
      "Agregado: TOTONICAPAN.csv\n",
      "Agregado: ZACAPA.csv\n",
      "CSV guardado : data.csv\n"
     ]
    }
   ],
   "source": [
    "# juntar los datos \n",
    "carpeta = 'data'\n",
    "csv_final = 'data.csv'\n",
    "\n",
    "dataframes=[]\n",
    "\n",
    "for archivo in os.listdir(carpeta):\n",
    "    if archivo.endswith('.csv'):\n",
    "        ruta = os.path.join(carpeta, archivo)\n",
    "        try:\n",
    "            df = pd.read_csv(ruta)\n",
    "            dataframes.append(df)\n",
    "            print(f\"Agregado: {archivo}\")\n",
    "        except Exception as e:\n",
    "            print(f\"Error en {archivo}: {e}\")\n",
    "\n",
    "#concatenar los dfs\n",
    "df_consolidado = pd.concat(dataframes, ignore_index=True)\n",
    "\n",
    "#guardar\n",
    "df_consolidado.to_csv(csv_final, index=False)\n",
    "print(f\"CSV guardado : {csv_final}\")"
   ]
  },
  {
   "cell_type": "code",
   "execution_count": 311,
   "id": "1ec7b70f",
   "metadata": {},
   "outputs": [
    {
     "data": {
      "text/html": [
       "<div>\n",
       "<style scoped>\n",
       "    .dataframe tbody tr th:only-of-type {\n",
       "        vertical-align: middle;\n",
       "    }\n",
       "\n",
       "    .dataframe tbody tr th {\n",
       "        vertical-align: top;\n",
       "    }\n",
       "\n",
       "    .dataframe thead th {\n",
       "        text-align: right;\n",
       "    }\n",
       "</style>\n",
       "<table border=\"1\" class=\"dataframe\">\n",
       "  <thead>\n",
       "    <tr style=\"text-align: right;\">\n",
       "      <th></th>\n",
       "      <th>CODIGO</th>\n",
       "      <th>DISTRITO</th>\n",
       "      <th>DEPARTAMENTO</th>\n",
       "      <th>MUNICIPIO</th>\n",
       "      <th>ESTABLECIMIENTO</th>\n",
       "      <th>DIRECCION</th>\n",
       "      <th>TELEFONO</th>\n",
       "      <th>SUPERVISOR</th>\n",
       "      <th>DIRECTOR</th>\n",
       "      <th>NIVEL</th>\n",
       "      <th>SECTOR</th>\n",
       "      <th>AREA</th>\n",
       "      <th>STATUS</th>\n",
       "      <th>MODALIDAD</th>\n",
       "      <th>JORNADA</th>\n",
       "      <th>PLAN</th>\n",
       "      <th>DEPARTAMENTAL</th>\n",
       "    </tr>\n",
       "  </thead>\n",
       "  <tbody>\n",
       "    <tr>\n",
       "      <th>count</th>\n",
       "      <td>6599</td>\n",
       "      <td>6599</td>\n",
       "      <td>6599</td>\n",
       "      <td>6599</td>\n",
       "      <td>6599</td>\n",
       "      <td>6597</td>\n",
       "      <td>6553</td>\n",
       "      <td>6599</td>\n",
       "      <td>6573</td>\n",
       "      <td>6599</td>\n",
       "      <td>6599</td>\n",
       "      <td>6599</td>\n",
       "      <td>6599</td>\n",
       "      <td>6599</td>\n",
       "      <td>6599</td>\n",
       "      <td>6599</td>\n",
       "      <td>6599</td>\n",
       "    </tr>\n",
       "    <tr>\n",
       "      <th>unique</th>\n",
       "      <td>6599</td>\n",
       "      <td>622</td>\n",
       "      <td>23</td>\n",
       "      <td>343</td>\n",
       "      <td>3786</td>\n",
       "      <td>4433</td>\n",
       "      <td>4215</td>\n",
       "      <td>599</td>\n",
       "      <td>3863</td>\n",
       "      <td>1</td>\n",
       "      <td>4</td>\n",
       "      <td>3</td>\n",
       "      <td>1</td>\n",
       "      <td>2</td>\n",
       "      <td>6</td>\n",
       "      <td>12</td>\n",
       "      <td>26</td>\n",
       "    </tr>\n",
       "    <tr>\n",
       "      <th>top</th>\n",
       "      <td>16-01-0138-46</td>\n",
       "      <td>01-403</td>\n",
       "      <td>GUATEMALA</td>\n",
       "      <td>ZONA 1</td>\n",
       "      <td>INSTITUTO NACIONAL DE EDUCACION DIVERSIFICADA</td>\n",
       "      <td>CABECERA MUNICIPAL</td>\n",
       "      <td>22093200.0</td>\n",
       "      <td>MIGUEL ANGEL ARMAS ROCHA</td>\n",
       "      <td>MARÍA DOLORES PÉREZ TUCHÁN</td>\n",
       "      <td>DIVERSIFICADO</td>\n",
       "      <td>PRIVADO</td>\n",
       "      <td>URBANA</td>\n",
       "      <td>ABIERTA</td>\n",
       "      <td>MONOLINGUE</td>\n",
       "      <td>DOBLE</td>\n",
       "      <td>DIARIO(REGULAR)</td>\n",
       "      <td>GUATEMALA OCCIDENTE</td>\n",
       "    </tr>\n",
       "    <tr>\n",
       "      <th>freq</th>\n",
       "      <td>1</td>\n",
       "      <td>160</td>\n",
       "      <td>1038</td>\n",
       "      <td>302</td>\n",
       "      <td>286</td>\n",
       "      <td>199</td>\n",
       "      <td>12</td>\n",
       "      <td>190</td>\n",
       "      <td>10</td>\n",
       "      <td>6599</td>\n",
       "      <td>5417</td>\n",
       "      <td>5249</td>\n",
       "      <td>6599</td>\n",
       "      <td>6390</td>\n",
       "      <td>1957</td>\n",
       "      <td>4051</td>\n",
       "      <td>551</td>\n",
       "    </tr>\n",
       "  </tbody>\n",
       "</table>\n",
       "</div>"
      ],
      "text/plain": [
       "               CODIGO DISTRITO DEPARTAMENTO MUNICIPIO  \\\n",
       "count            6599     6599         6599      6599   \n",
       "unique           6599      622           23       343   \n",
       "top     16-01-0138-46   01-403    GUATEMALA    ZONA 1   \n",
       "freq                1      160         1038       302   \n",
       "\n",
       "                                      ESTABLECIMIENTO           DIRECCION  \\\n",
       "count                                            6599                6597   \n",
       "unique                                           3786                4433   \n",
       "top     INSTITUTO NACIONAL DE EDUCACION DIVERSIFICADA  CABECERA MUNICIPAL   \n",
       "freq                                              286                 199   \n",
       "\n",
       "          TELEFONO                SUPERVISOR                    DIRECTOR  \\\n",
       "count         6553                      6599                        6573   \n",
       "unique        4215                       599                        3863   \n",
       "top     22093200.0  MIGUEL ANGEL ARMAS ROCHA  MARÍA DOLORES PÉREZ TUCHÁN   \n",
       "freq            12                       190                          10   \n",
       "\n",
       "                NIVEL   SECTOR    AREA   STATUS   MODALIDAD JORNADA  \\\n",
       "count            6599     6599    6599     6599        6599    6599   \n",
       "unique              1        4       3        1           2       6   \n",
       "top     DIVERSIFICADO  PRIVADO  URBANA  ABIERTA  MONOLINGUE   DOBLE   \n",
       "freq             6599     5417    5249     6599        6390    1957   \n",
       "\n",
       "                   PLAN        DEPARTAMENTAL  \n",
       "count              6599                 6599  \n",
       "unique               12                   26  \n",
       "top     DIARIO(REGULAR)  GUATEMALA OCCIDENTE  \n",
       "freq               4051                  551  "
      ]
     },
     "execution_count": 311,
     "metadata": {},
     "output_type": "execute_result"
    }
   ],
   "source": [
    "\n",
    "df = pd.read_csv(csv_final)\n",
    "\n",
    "#describir el set de datos\n",
    "df.describe(include='all')\n",
    "\n"
   ]
  },
  {
   "cell_type": "code",
   "execution_count": 312,
   "id": "db2881ec",
   "metadata": {},
   "outputs": [
    {
     "name": "stdout",
     "output_type": "stream",
     "text": [
      "Cantidad de filas en el set de datos:\n",
      "6622\n",
      "------------------------------------------------------------------------------------------------------------------------------------------------------\n",
      "Cantidad de variables en el set de datos:\n",
      "17\n"
     ]
    }
   ],
   "source": [
    "#filas de datos\n",
    "print(\"Cantidad de filas en el set de datos:\")\n",
    "print(df.shape[0])\n",
    "\n",
    "print(\"-\"*150)\n",
    "#cuantas variables tiene el set de datos\n",
    "print(\"Cantidad de variables en el set de datos:\")\n",
    "print(df.shape[1])"
   ]
  },
  {
   "cell_type": "markdown",
   "id": "93642295",
   "metadata": {},
   "source": [
    "### Exploración de datos"
   ]
  },
  {
   "cell_type": "code",
   "execution_count": 313,
   "id": "00952c0d",
   "metadata": {},
   "outputs": [
    {
     "name": "stdout",
     "output_type": "stream",
     "text": [
      "          CODIGO DISTRITO  DEPARTAMENTO MUNICIPIO  \\\n",
      "0  16-01-0138-46   16-031  ALTA VERAPAZ     COBAN   \n",
      "1  16-01-0139-46   16-031  ALTA VERAPAZ     COBAN   \n",
      "2  16-01-0140-46   16-031  ALTA VERAPAZ     COBAN   \n",
      "3  16-01-0141-46   16-005  ALTA VERAPAZ     COBAN   \n",
      "4  16-01-0142-46   16-005  ALTA VERAPAZ     COBAN   \n",
      "\n",
      "                                     ESTABLECIMIENTO  \\\n",
      "0                                      COLEGIO COBAN   \n",
      "1                   COLEGIO PARTICULAR MIXTO VERAPAZ   \n",
      "2                            COLEGIO \"LA INMACULADA\"   \n",
      "3           ESCUELA NACIONAL DE CIENCIAS COMERCIALES   \n",
      "4  INSTITUTO NORMAL MIXTO DEL NORTE 'EMILIO ROSAL...   \n",
      "\n",
      "                                DIRECCION  TELEFONO  \\\n",
      "0  KM.2 SALIDA A SAN JUAN CHAMELCO ZONA 8  77945104   \n",
      "1            KM 209.5 ENTRADA A LA CIUDAD  77367402   \n",
      "2               7A. AVENIDA 11-109 ZONA 6  78232301   \n",
      "3                   2A CALLE 11-10 ZONA 2  79514215   \n",
      "4                     3A AVE 6-23 ZONA 11  79521468   \n",
      "\n",
      "                        SUPERVISOR                        DIRECTOR  \\\n",
      "0         PATRICIO NAJARRO ASENCIO       GUSTAVO ADOLFO SIERRA POP   \n",
      "1         PATRICIO NAJARRO ASENCIO  GILMA DOLORES GUAY PAZ DE LEAL   \n",
      "2         PATRICIO NAJARRO ASENCIO         VIRGINIA SOLANO SERRANO   \n",
      "3  NORA LILIANA FIGUEROA HERNÁNDEZ        HÉCTOR ROLANDO CHUN POOU   \n",
      "4  NORA LILIANA FIGUEROA HERNÁNDEZ     VICTOR HUGO DOMÍNGUEZ REYES   \n",
      "\n",
      "           NIVEL   SECTOR    AREA   STATUS   MODALIDAD     JORNADA  \\\n",
      "0  DIVERSIFICADO  PRIVADO  URBANA  ABIERTA  MONOLINGUE    MATUTINA   \n",
      "1  DIVERSIFICADO  PRIVADO  URBANA  ABIERTA  MONOLINGUE    MATUTINA   \n",
      "2  DIVERSIFICADO  PRIVADO  URBANA  ABIERTA  MONOLINGUE    MATUTINA   \n",
      "3  DIVERSIFICADO  OFICIAL  URBANA  ABIERTA  MONOLINGUE    MATUTINA   \n",
      "4  DIVERSIFICADO  OFICIAL  URBANA  ABIERTA    BILINGUE  VESPERTINA   \n",
      "\n",
      "              PLAN DEPARTAMENTAL  \n",
      "0  DIARIO(REGULAR)  ALTA VERAPAZ  \n",
      "1  DIARIO(REGULAR)  ALTA VERAPAZ  \n",
      "2  DIARIO(REGULAR)  ALTA VERAPAZ  \n",
      "3  DIARIO(REGULAR)  ALTA VERAPAZ  \n",
      "4  DIARIO(REGULAR)  ALTA VERAPAZ  \n"
     ]
    }
   ],
   "source": [
    "print(df.head())"
   ]
  },
  {
   "cell_type": "code",
   "execution_count": 314,
   "id": "e673686c",
   "metadata": {},
   "outputs": [
    {
     "name": "stdout",
     "output_type": "stream",
     "text": [
      "<class 'pandas.core.frame.DataFrame'>\n",
      "RangeIndex: 6622 entries, 0 to 6621\n",
      "Data columns (total 17 columns):\n",
      " #   Column           Non-Null Count  Dtype \n",
      "---  ------           --------------  ----- \n",
      " 0   CODIGO           6599 non-null   object\n",
      " 1   DISTRITO         6599 non-null   object\n",
      " 2   DEPARTAMENTO     6599 non-null   object\n",
      " 3   MUNICIPIO        6599 non-null   object\n",
      " 4   ESTABLECIMIENTO  6599 non-null   object\n",
      " 5   DIRECCION        6597 non-null   object\n",
      " 6   TELEFONO         6553 non-null   object\n",
      " 7   SUPERVISOR       6599 non-null   object\n",
      " 8   DIRECTOR         6573 non-null   object\n",
      " 9   NIVEL            6599 non-null   object\n",
      " 10  SECTOR           6599 non-null   object\n",
      " 11  AREA             6599 non-null   object\n",
      " 12  STATUS           6599 non-null   object\n",
      " 13  MODALIDAD        6599 non-null   object\n",
      " 14  JORNADA          6599 non-null   object\n",
      " 15  PLAN             6599 non-null   object\n",
      " 16  DEPARTAMENTAL    6599 non-null   object\n",
      "dtypes: object(17)\n",
      "memory usage: 879.6+ KB\n",
      "None\n"
     ]
    }
   ],
   "source": [
    "print(df.info())"
   ]
  },
  {
   "cell_type": "code",
   "execution_count": 315,
   "id": "26fd198f",
   "metadata": {},
   "outputs": [
    {
     "name": "stdout",
     "output_type": "stream",
     "text": [
      "               CODIGO DISTRITO DEPARTAMENTO MUNICIPIO  \\\n",
      "count            6599     6599         6599      6599   \n",
      "unique           6599      622           23       343   \n",
      "top     16-01-0138-46   01-403    GUATEMALA    ZONA 1   \n",
      "freq                1      160         1038       302   \n",
      "\n",
      "                                      ESTABLECIMIENTO           DIRECCION  \\\n",
      "count                                            6599                6597   \n",
      "unique                                           3786                4433   \n",
      "top     INSTITUTO NACIONAL DE EDUCACION DIVERSIFICADA  CABECERA MUNICIPAL   \n",
      "freq                                              286                 199   \n",
      "\n",
      "          TELEFONO                SUPERVISOR                    DIRECTOR  \\\n",
      "count         6553                      6599                        6573   \n",
      "unique        4215                       599                        3863   \n",
      "top     22093200.0  MIGUEL ANGEL ARMAS ROCHA  MARÍA DOLORES PÉREZ TUCHÁN   \n",
      "freq            12                       190                          10   \n",
      "\n",
      "                NIVEL   SECTOR    AREA   STATUS   MODALIDAD JORNADA  \\\n",
      "count            6599     6599    6599     6599        6599    6599   \n",
      "unique              1        4       3        1           2       6   \n",
      "top     DIVERSIFICADO  PRIVADO  URBANA  ABIERTA  MONOLINGUE   DOBLE   \n",
      "freq             6599     5417    5249     6599        6390    1957   \n",
      "\n",
      "                   PLAN        DEPARTAMENTAL  \n",
      "count              6599                 6599  \n",
      "unique               12                   26  \n",
      "top     DIARIO(REGULAR)  GUATEMALA OCCIDENTE  \n",
      "freq               4051                  551  \n"
     ]
    }
   ],
   "source": [
    "print(df.describe(include='all'))"
   ]
  },
  {
   "cell_type": "code",
   "execution_count": 316,
   "id": "bc53ecd9",
   "metadata": {},
   "outputs": [
    {
     "name": "stdout",
     "output_type": "stream",
     "text": [
      "CODIGO             object\n",
      "DISTRITO           object\n",
      "DEPARTAMENTO       object\n",
      "MUNICIPIO          object\n",
      "ESTABLECIMIENTO    object\n",
      "DIRECCION          object\n",
      "TELEFONO           object\n",
      "SUPERVISOR         object\n",
      "DIRECTOR           object\n",
      "NIVEL              object\n",
      "SECTOR             object\n",
      "AREA               object\n",
      "STATUS             object\n",
      "MODALIDAD          object\n",
      "JORNADA            object\n",
      "PLAN               object\n",
      "DEPARTAMENTAL      object\n",
      "dtype: object\n"
     ]
    }
   ],
   "source": [
    "print(df.dtypes)"
   ]
  },
  {
   "cell_type": "code",
   "execution_count": 317,
   "id": "42d3deac",
   "metadata": {},
   "outputs": [
    {
     "name": "stdout",
     "output_type": "stream",
     "text": [
      "CODIGO             23\n",
      "DISTRITO           23\n",
      "DEPARTAMENTO       23\n",
      "MUNICIPIO          23\n",
      "ESTABLECIMIENTO    23\n",
      "DIRECCION          25\n",
      "TELEFONO           69\n",
      "SUPERVISOR         23\n",
      "DIRECTOR           49\n",
      "NIVEL              23\n",
      "SECTOR             23\n",
      "AREA               23\n",
      "STATUS             23\n",
      "MODALIDAD          23\n",
      "JORNADA            23\n",
      "PLAN               23\n",
      "DEPARTAMENTAL      23\n",
      "dtype: int64\n"
     ]
    }
   ],
   "source": [
    "print(df.isnull().sum())"
   ]
  },
  {
   "cell_type": "code",
   "execution_count": 318,
   "id": "43fbbeb3",
   "metadata": {},
   "outputs": [
    {
     "name": "stdout",
     "output_type": "stream",
     "text": [
      "Duplicados: 22\n"
     ]
    }
   ],
   "source": [
    "print(f\"Duplicados: {df.duplicated().sum()}\")\n"
   ]
  },
  {
   "cell_type": "code",
   "execution_count": 319,
   "id": "39b4606c",
   "metadata": {},
   "outputs": [
    {
     "name": "stdout",
     "output_type": "stream",
     "text": [
      "CODIGO             6599\n",
      "DISTRITO            622\n",
      "DEPARTAMENTO         23\n",
      "MUNICIPIO           343\n",
      "ESTABLECIMIENTO    3786\n",
      "DIRECCION          4433\n",
      "TELEFONO           4215\n",
      "SUPERVISOR          599\n",
      "DIRECTOR           3863\n",
      "NIVEL                 1\n",
      "SECTOR                4\n",
      "AREA                  3\n",
      "STATUS                1\n",
      "MODALIDAD             2\n",
      "JORNADA               6\n",
      "PLAN                 12\n",
      "DEPARTAMENTAL        26\n",
      "dtype: int64\n"
     ]
    }
   ],
   "source": [
    "print(df.nunique())"
   ]
  },
  {
   "cell_type": "code",
   "execution_count": 320,
   "id": "c4390c58",
   "metadata": {},
   "outputs": [
    {
     "data": {
      "image/png": "[encoded data removed]",
      "text/plain": [
       "<Figure size 1200x600 with 1 Axes>"
      ]
     },
     "metadata": {},
     "output_type": "display_data"
    }
   ],
   "source": [
    "# CANtidad de registros por departamento\n",
    "import matplotlib.pyplot as plt\n",
    "import seaborn as sns\n",
    "\n",
    "plt.figure(figsize=(12,6))\n",
    "sns.countplot(data=df, x='DEPARTAMENTO', order=df['DEPARTAMENTO'].value_counts().index)\n",
    "plt.xticks(rotation=90)\n",
    "plt.title('Distribución de registros por departamento')\n",
    "plt.xlabel('Departamento')\n",
    "plt.ylabel('Cantidad de registros')\n",
    "plt.tight_layout()\n",
    "plt.show()"
   ]
  },
  {
   "cell_type": "markdown",
   "id": "df9e22c0",
   "metadata": {},
   "source": [
    "# Limpieza de datos"
   ]
  },
  {
   "cell_type": "code",
   "execution_count": 321,
   "id": "4cdf0ee7",
   "metadata": {},
   "outputs": [],
   "source": [
    "#borrar loda datos duplicados\n",
    "df.drop_duplicates(inplace=True)"
   ]
  },
  {
   "cell_type": "code",
   "execution_count": 322,
   "id": "2986b478",
   "metadata": {},
   "outputs": [
    {
     "name": "stdout",
     "output_type": "stream",
     "text": [
      "Duplicados: 0\n"
     ]
    }
   ],
   "source": [
    "print(f\"Duplicados: {df.duplicated().sum()}\")"
   ]
  },
  {
   "cell_type": "code",
   "execution_count": 323,
   "id": "9e3f466a",
   "metadata": {},
   "outputs": [],
   "source": [
    "#convertir todos los datos que son string a lowecase\n",
    "for col in df.select_dtypes(include='object').columns:\n",
    "    df[col] = df[col].str.lower()"
   ]
  },
  {
   "cell_type": "code",
   "execution_count": 324,
   "id": "58916436",
   "metadata": {},
   "outputs": [
    {
     "name": "stdout",
     "output_type": "stream",
     "text": [
      "          CODIGO DISTRITO  DEPARTAMENTO MUNICIPIO  \\\n",
      "0  16-01-0138-46   16-031  alta verapaz     coban   \n",
      "1  16-01-0139-46   16-031  alta verapaz     coban   \n",
      "2  16-01-0140-46   16-031  alta verapaz     coban   \n",
      "3  16-01-0141-46   16-005  alta verapaz     coban   \n",
      "4  16-01-0142-46   16-005  alta verapaz     coban   \n",
      "\n",
      "                                     ESTABLECIMIENTO  \\\n",
      "0                                      colegio coban   \n",
      "1                   colegio particular mixto verapaz   \n",
      "2                            colegio \"la inmaculada\"   \n",
      "3           escuela nacional de ciencias comerciales   \n",
      "4  instituto normal mixto del norte 'emilio rosal...   \n",
      "\n",
      "                                DIRECCION  TELEFONO  \\\n",
      "0  km.2 salida a san juan chamelco zona 8  77945104   \n",
      "1            km 209.5 entrada a la ciudad  77367402   \n",
      "2               7a. avenida 11-109 zona 6  78232301   \n",
      "3                   2a calle 11-10 zona 2  79514215   \n",
      "4                     3a ave 6-23 zona 11  79521468   \n",
      "\n",
      "                        SUPERVISOR                        DIRECTOR  \\\n",
      "0         patricio najarro asencio       gustavo adolfo sierra pop   \n",
      "1         patricio najarro asencio  gilma dolores guay paz de leal   \n",
      "2         patricio najarro asencio         virginia solano serrano   \n",
      "3  nora liliana figueroa hernández        héctor rolando chun poou   \n",
      "4  nora liliana figueroa hernández     victor hugo domínguez reyes   \n",
      "\n",
      "           NIVEL   SECTOR    AREA   STATUS   MODALIDAD     JORNADA  \\\n",
      "0  diversificado  privado  urbana  abierta  monolingue    matutina   \n",
      "1  diversificado  privado  urbana  abierta  monolingue    matutina   \n",
      "2  diversificado  privado  urbana  abierta  monolingue    matutina   \n",
      "3  diversificado  oficial  urbana  abierta  monolingue    matutina   \n",
      "4  diversificado  oficial  urbana  abierta    bilingue  vespertina   \n",
      "\n",
      "              PLAN DEPARTAMENTAL  \n",
      "0  diario(regular)  alta verapaz  \n",
      "1  diario(regular)  alta verapaz  \n",
      "2  diario(regular)  alta verapaz  \n",
      "3  diario(regular)  alta verapaz  \n",
      "4  diario(regular)  alta verapaz  \n"
     ]
    }
   ],
   "source": [
    "print(df.head())"
   ]
  },
  {
   "cell_type": "code",
   "execution_count": 325,
   "id": "c729fb16",
   "metadata": {},
   "outputs": [
    {
     "name": "stdout",
     "output_type": "stream",
     "text": [
      "Filas valores faltantes: 6600\n",
      "Filas después de quitar valores faltantes: 6538\n"
     ]
    }
   ],
   "source": [
    "#quitar valores faltantes\n",
    "print(f\"Filas valores faltantes: {df.shape[0]}\")\n",
    "df.dropna(inplace=True)\n",
    "\n",
    "print(f\"Filas después de quitar valores faltantes: {df.shape[0]}\")"
   ]
  },
  {
   "cell_type": "code",
   "execution_count": 326,
   "id": "3f4a951e",
   "metadata": {},
   "outputs": [
    {
     "data": {
      "image/png": "[encoded data removed]",
      "text/plain": [
       "<Figure size 1200x600 with 1 Axes>"
      ]
     },
     "metadata": {},
     "output_type": "display_data"
    }
   ],
   "source": [
    "# ver de nuevo la distribucion\n",
    "plt.figure(figsize=(12,6))\n",
    "sns.countplot(data=df, x='DEPARTAMENTO', order=df['DEPARTAMENTO'].value_counts().index)\n",
    "plt.xticks(rotation=90)\n",
    "plt.title('Distribución de registros por departamento')\n",
    "plt.xlabel('Departamento')\n",
    "plt.ylabel('Cantidad de registros')\n",
    "plt.tight_layout()\n",
    "plt.show()"
   ]
  },
  {
   "cell_type": "code",
   "execution_count": 327,
   "id": "1cdb37e1",
   "metadata": {},
   "outputs": [],
   "source": [
    "# quitar las tildes de de los datos cualitativos y los que no cumplan con el coso ascii y normalizacion ocon unicode para separar letras de sus acentos o caracteres especiales.\n",
    "for col in df.select_dtypes(include='object').columns:\n",
    "    df[col] = df[col].str.normalize('NFKD').str.encode('ascii', errors='ignore').str.decode('utf-8')"
   ]
  },
  {
   "cell_type": "code",
   "execution_count": 328,
   "id": "39423b05",
   "metadata": {},
   "outputs": [
    {
     "name": "stdout",
     "output_type": "stream",
     "text": [
      "          CODIGO DISTRITO  DEPARTAMENTO MUNICIPIO  \\\n",
      "0  16-01-0138-46   16-031  alta verapaz     coban   \n",
      "1  16-01-0139-46   16-031  alta verapaz     coban   \n",
      "2  16-01-0140-46   16-031  alta verapaz     coban   \n",
      "3  16-01-0141-46   16-005  alta verapaz     coban   \n",
      "4  16-01-0142-46   16-005  alta verapaz     coban   \n",
      "\n",
      "                                     ESTABLECIMIENTO  \\\n",
      "0                                      colegio coban   \n",
      "1                   colegio particular mixto verapaz   \n",
      "2                            colegio \"la inmaculada\"   \n",
      "3           escuela nacional de ciencias comerciales   \n",
      "4  instituto normal mixto del norte 'emilio rosal...   \n",
      "\n",
      "                                DIRECCION  TELEFONO  \\\n",
      "0  km.2 salida a san juan chamelco zona 8  77945104   \n",
      "1            km 209.5 entrada a la ciudad  77367402   \n",
      "2               7a. avenida 11-109 zona 6  78232301   \n",
      "3                   2a calle 11-10 zona 2  79514215   \n",
      "4                     3a ave 6-23 zona 11  79521468   \n",
      "\n",
      "                        SUPERVISOR                        DIRECTOR  \\\n",
      "0         patricio najarro asencio       gustavo adolfo sierra pop   \n",
      "1         patricio najarro asencio  gilma dolores guay paz de leal   \n",
      "2         patricio najarro asencio         virginia solano serrano   \n",
      "3  nora liliana figueroa hernandez        hector rolando chun poou   \n",
      "4  nora liliana figueroa hernandez     victor hugo dominguez reyes   \n",
      "\n",
      "           NIVEL   SECTOR    AREA   STATUS   MODALIDAD     JORNADA  \\\n",
      "0  diversificado  privado  urbana  abierta  monolingue    matutina   \n",
      "1  diversificado  privado  urbana  abierta  monolingue    matutina   \n",
      "2  diversificado  privado  urbana  abierta  monolingue    matutina   \n",
      "3  diversificado  oficial  urbana  abierta  monolingue    matutina   \n",
      "4  diversificado  oficial  urbana  abierta    bilingue  vespertina   \n",
      "\n",
      "              PLAN DEPARTAMENTAL  \n",
      "0  diario(regular)  alta verapaz  \n",
      "1  diario(regular)  alta verapaz  \n",
      "2  diario(regular)  alta verapaz  \n",
      "3  diario(regular)  alta verapaz  \n",
      "4  diario(regular)  alta verapaz  \n"
     ]
    }
   ],
   "source": [
    "print(df.head())"
   ]
  },
  {
   "cell_type": "code",
   "execution_count": 329,
   "id": "542812ce",
   "metadata": {},
   "outputs": [],
   "source": [
    "# quitar las dobles comillas o transcripciones\n",
    "for col in df.select_dtypes(include='object').columns:\n",
    "    df[col] = df[col].str.replace('\"', '')"
   ]
  },
  {
   "cell_type": "code",
   "execution_count": 330,
   "id": "0d078f33",
   "metadata": {},
   "outputs": [],
   "source": [
    "import re\n",
    "import math\n",
    "import pandas as pd\n",
    "\n",
    "ABREVS = {'Lic', 'Dr', 'Dra', 'Ing', 'Arq', 'Sr', 'Sra', 'Sres'}\n",
    "\n",
    "def es_na(x):\n",
    "    # True para NaN/None/pd.NA\n",
    "    return x is None or (isinstance(x, float) and math.isnan(x)) or x is pd.NA\n",
    "\n",
    "def quitar_punto(nombre: str) -> str:\n",
    "    s = nombre.strip()\n",
    "    if not s:\n",
    "        return s  # vacío\n",
    "    if s.endswith('.'):\n",
    "        base = s[:-1].rstrip()   # sin el punto final\n",
    "        if not base:\n",
    "            return base          # era solo \".\" o \" . \"\n",
    "        ultimo = base.split()[-1]\n",
    "        # Normaliza para comparar con el set \n",
    "        if ultimo.capitalize() not in ABREVS:\n",
    "            return base          # quita el punto si no es abreviatura\n",
    "    return s\n",
    "\n",
    "def quitar_guiones(s: str) -> str:\n",
    "    if not s:\n",
    "        return s\n",
    "\n",
    "    #guiones al inicio/fin\n",
    "    s = re.sub(r'^-+|-+$', '', s.strip())\n",
    "    #guiones con espacio a ambos lados -> espacio\n",
    "    s = re.sub(r'\\s+-+\\s+', ' ', s)\n",
    "    # guiones pegados a un lado y espacio en el otro -> espacio\n",
    "    s = re.sub(r'(?<=\\s)-+|-+(?=\\s)', ' ', s)\n",
    "    #colapsa 2+ guiones entre alfanuméricos a un solo guion (conserva el guion simple)\n",
    "    s = re.sub(r'(?<=\\w)-{2,}(?=\\w)', '-', s)\n",
    "    #espacios múltiples -> uno\n",
    "    s = re.sub(r'\\s{2,}', ' ', s).strip()\n",
    "    return s\n",
    "\n",
    "def limpiar(texto):\n",
    "    if es_na(texto):\n",
    "        return texto\n",
    "    if isinstance(texto, str):\n",
    "        texto = quitar_punto(texto)\n",
    "        texto = quitar_guiones(texto)\n",
    "    return texto\n",
    "\n",
    "# columnas objeto excluyendo codigo\n",
    "cols_obj = df.select_dtypes(include='object').columns\n",
    "columnas_cat = [c for c in cols_obj if c not in {'CODIGO'}]\n",
    "\n",
    "for col in columnas_cat:\n",
    "    df[col] = df[col].apply(limpiar)\n"
   ]
  },
  {
   "cell_type": "code",
   "execution_count": 331,
   "id": "adfde27e",
   "metadata": {},
   "outputs": [
    {
     "data": {
      "text/html": [
       "<div>\n",
       "<style scoped>\n",
       "    .dataframe tbody tr th:only-of-type {\n",
       "        vertical-align: middle;\n",
       "    }\n",
       "\n",
       "    .dataframe tbody tr th {\n",
       "        vertical-align: top;\n",
       "    }\n",
       "\n",
       "    .dataframe thead th {\n",
       "        text-align: right;\n",
       "    }\n",
       "</style>\n",
       "<table border=\"1\" class=\"dataframe\">\n",
       "  <thead>\n",
       "    <tr style=\"text-align: right;\">\n",
       "      <th></th>\n",
       "      <th>CODIGO</th>\n",
       "      <th>DISTRITO</th>\n",
       "      <th>DEPARTAMENTO</th>\n",
       "      <th>MUNICIPIO</th>\n",
       "      <th>ESTABLECIMIENTO</th>\n",
       "      <th>DIRECCION</th>\n",
       "      <th>TELEFONO</th>\n",
       "      <th>SUPERVISOR</th>\n",
       "      <th>DIRECTOR</th>\n",
       "      <th>NIVEL</th>\n",
       "      <th>SECTOR</th>\n",
       "      <th>AREA</th>\n",
       "      <th>STATUS</th>\n",
       "      <th>MODALIDAD</th>\n",
       "      <th>JORNADA</th>\n",
       "      <th>PLAN</th>\n",
       "      <th>DEPARTAMENTAL</th>\n",
       "    </tr>\n",
       "  </thead>\n",
       "  <tbody>\n",
       "    <tr>\n",
       "      <th>54</th>\n",
       "      <td>16-01-0991-46</td>\n",
       "      <td>16-031</td>\n",
       "      <td>alta verapaz</td>\n",
       "      <td>coban</td>\n",
       "      <td>liceo mixto particular san benito</td>\n",
       "      <td>9a. avenida 4-55, zona 4</td>\n",
       "      <td>37058145</td>\n",
       "      <td>patricio najarro asencio</td>\n",
       "      <td>henri marco artola teyul</td>\n",
       "      <td>diversificado</td>\n",
       "      <td>privado</td>\n",
       "      <td>urbana</td>\n",
       "      <td>abierta</td>\n",
       "      <td>monolingue</td>\n",
       "      <td>doble</td>\n",
       "      <td>fin de semana</td>\n",
       "      <td>alta verapaz</td>\n",
       "    </tr>\n",
       "  </tbody>\n",
       "</table>\n",
       "</div>"
      ],
      "text/plain": [
       "           CODIGO DISTRITO  DEPARTAMENTO MUNICIPIO  \\\n",
       "54  16-01-0991-46   16-031  alta verapaz     coban   \n",
       "\n",
       "                      ESTABLECIMIENTO                 DIRECCION  TELEFONO  \\\n",
       "54  liceo mixto particular san benito  9a. avenida 4-55, zona 4  37058145   \n",
       "\n",
       "                  SUPERVISOR                  DIRECTOR          NIVEL  \\\n",
       "54  patricio najarro asencio  henri marco artola teyul  diversificado   \n",
       "\n",
       "     SECTOR    AREA   STATUS   MODALIDAD JORNADA           PLAN DEPARTAMENTAL  \n",
       "54  privado  urbana  abierta  monolingue   doble  fin de semana  alta verapaz  "
      ]
     },
     "execution_count": 331,
     "metadata": {},
     "output_type": "execute_result"
    }
   ],
   "source": [
    "#ej triple comilla\n",
    "df[df['CODIGO'].str.contains('16-01-0991-46', case=False, na=False)]"
   ]
  },
  {
   "cell_type": "code",
   "execution_count": 332,
   "id": "64e9a505",
   "metadata": {},
   "outputs": [
    {
     "data": {
      "text/html": [
       "<div>\n",
       "<style scoped>\n",
       "    .dataframe tbody tr th:only-of-type {\n",
       "        vertical-align: middle;\n",
       "    }\n",
       "\n",
       "    .dataframe tbody tr th {\n",
       "        vertical-align: top;\n",
       "    }\n",
       "\n",
       "    .dataframe thead th {\n",
       "        text-align: right;\n",
       "    }\n",
       "</style>\n",
       "<table border=\"1\" class=\"dataframe\">\n",
       "  <thead>\n",
       "    <tr style=\"text-align: right;\">\n",
       "      <th></th>\n",
       "      <th>CODIGO</th>\n",
       "      <th>DISTRITO</th>\n",
       "      <th>DEPARTAMENTO</th>\n",
       "      <th>MUNICIPIO</th>\n",
       "      <th>ESTABLECIMIENTO</th>\n",
       "      <th>DIRECCION</th>\n",
       "      <th>TELEFONO</th>\n",
       "      <th>SUPERVISOR</th>\n",
       "      <th>DIRECTOR</th>\n",
       "      <th>NIVEL</th>\n",
       "      <th>SECTOR</th>\n",
       "      <th>AREA</th>\n",
       "      <th>STATUS</th>\n",
       "      <th>MODALIDAD</th>\n",
       "      <th>JORNADA</th>\n",
       "      <th>PLAN</th>\n",
       "      <th>DEPARTAMENTAL</th>\n",
       "    </tr>\n",
       "  </thead>\n",
       "  <tbody>\n",
       "    <tr>\n",
       "      <th>856</th>\n",
       "      <td>00-01-0224-46</td>\n",
       "      <td>01-312</td>\n",
       "      <td>ciudad capital</td>\n",
       "      <td>zona 1</td>\n",
       "      <td>instituto de educacion diversificada colegio '...</td>\n",
       "      <td>11 calle 3-38</td>\n",
       "      <td>22325512.0</td>\n",
       "      <td>amado salomon flores perez</td>\n",
       "      <td></td>\n",
       "      <td>diversificado</td>\n",
       "      <td>privado</td>\n",
       "      <td>urbana</td>\n",
       "      <td>abierta</td>\n",
       "      <td>monolingue</td>\n",
       "      <td>matutina</td>\n",
       "      <td>diario(regular)</td>\n",
       "      <td>guatemala norte</td>\n",
       "    </tr>\n",
       "  </tbody>\n",
       "</table>\n",
       "</div>"
      ],
      "text/plain": [
       "            CODIGO DISTRITO    DEPARTAMENTO MUNICIPIO  \\\n",
       "856  00-01-0224-46   01-312  ciudad capital    zona 1   \n",
       "\n",
       "                                       ESTABLECIMIENTO      DIRECCION  \\\n",
       "856  instituto de educacion diversificada colegio '...  11 calle 3-38   \n",
       "\n",
       "       TELEFONO                  SUPERVISOR DIRECTOR          NIVEL   SECTOR  \\\n",
       "856  22325512.0  amado salomon flores perez           diversificado  privado   \n",
       "\n",
       "       AREA   STATUS   MODALIDAD   JORNADA             PLAN    DEPARTAMENTAL  \n",
       "856  urbana  abierta  monolingue  matutina  diario(regular)  guatemala norte  "
      ]
     },
     "execution_count": 332,
     "metadata": {},
     "output_type": "execute_result"
    }
   ],
   "source": [
    "# ej con triple guion\n",
    "df[df['CODIGO'].str.contains('00-01-0224-46', case=False, na=False)]\n"
   ]
  },
  {
   "cell_type": "code",
   "execution_count": 333,
   "id": "8d222af3",
   "metadata": {},
   "outputs": [
    {
     "data": {
      "text/html": [
       "<div>\n",
       "<style scoped>\n",
       "    .dataframe tbody tr th:only-of-type {\n",
       "        vertical-align: middle;\n",
       "    }\n",
       "\n",
       "    .dataframe tbody tr th {\n",
       "        vertical-align: top;\n",
       "    }\n",
       "\n",
       "    .dataframe thead th {\n",
       "        text-align: right;\n",
       "    }\n",
       "</style>\n",
       "<table border=\"1\" class=\"dataframe\">\n",
       "  <thead>\n",
       "    <tr style=\"text-align: right;\">\n",
       "      <th></th>\n",
       "      <th>CODIGO</th>\n",
       "      <th>DISTRITO</th>\n",
       "      <th>DEPARTAMENTO</th>\n",
       "      <th>MUNICIPIO</th>\n",
       "      <th>ESTABLECIMIENTO</th>\n",
       "      <th>DIRECCION</th>\n",
       "      <th>TELEFONO</th>\n",
       "      <th>SUPERVISOR</th>\n",
       "      <th>DIRECTOR</th>\n",
       "      <th>NIVEL</th>\n",
       "      <th>SECTOR</th>\n",
       "      <th>AREA</th>\n",
       "      <th>STATUS</th>\n",
       "      <th>MODALIDAD</th>\n",
       "      <th>JORNADA</th>\n",
       "      <th>PLAN</th>\n",
       "      <th>DEPARTAMENTAL</th>\n",
       "    </tr>\n",
       "  </thead>\n",
       "  <tbody>\n",
       "    <tr>\n",
       "      <th>61</th>\n",
       "      <td>16-01-1009-46</td>\n",
       "      <td>16-031</td>\n",
       "      <td>alta verapaz</td>\n",
       "      <td>coban</td>\n",
       "      <td>colegio bilingue bet-luz</td>\n",
       "      <td>7a. calle 11-233 zona 6</td>\n",
       "      <td>45379823</td>\n",
       "      <td>patricio najarro asencio</td>\n",
       "      <td>celeste leticia yat macz</td>\n",
       "      <td>diversificado</td>\n",
       "      <td>privado</td>\n",
       "      <td>urbana</td>\n",
       "      <td>abierta</td>\n",
       "      <td>monolingue</td>\n",
       "      <td>matutina</td>\n",
       "      <td>diario(regular)</td>\n",
       "      <td>alta verapaz</td>\n",
       "    </tr>\n",
       "  </tbody>\n",
       "</table>\n",
       "</div>"
      ],
      "text/plain": [
       "           CODIGO DISTRITO  DEPARTAMENTO MUNICIPIO           ESTABLECIMIENTO  \\\n",
       "61  16-01-1009-46   16-031  alta verapaz     coban  colegio bilingue bet-luz   \n",
       "\n",
       "                  DIRECCION  TELEFONO                SUPERVISOR  \\\n",
       "61  7a. calle 11-233 zona 6  45379823  patricio najarro asencio   \n",
       "\n",
       "                    DIRECTOR          NIVEL   SECTOR    AREA   STATUS  \\\n",
       "61  celeste leticia yat macz  diversificado  privado  urbana  abierta   \n",
       "\n",
       "     MODALIDAD   JORNADA             PLAN DEPARTAMENTAL  \n",
       "61  monolingue  matutina  diario(regular)  alta verapaz  "
      ]
     },
     "execution_count": 333,
     "metadata": {},
     "output_type": "execute_result"
    }
   ],
   "source": [
    "#guion entre palabras\n",
    "df[df['CODIGO'].str.contains('16-01-1009-46', case=False, na=False)]\n"
   ]
  },
  {
   "cell_type": "code",
   "execution_count": 334,
   "id": "5ac588d0",
   "metadata": {},
   "outputs": [
    {
     "data": {
      "text/html": [
       "<div>\n",
       "<style scoped>\n",
       "    .dataframe tbody tr th:only-of-type {\n",
       "        vertical-align: middle;\n",
       "    }\n",
       "\n",
       "    .dataframe tbody tr th {\n",
       "        vertical-align: top;\n",
       "    }\n",
       "\n",
       "    .dataframe thead th {\n",
       "        text-align: right;\n",
       "    }\n",
       "</style>\n",
       "<table border=\"1\" class=\"dataframe\">\n",
       "  <thead>\n",
       "    <tr style=\"text-align: right;\">\n",
       "      <th></th>\n",
       "      <th>CODIGO</th>\n",
       "      <th>DISTRITO</th>\n",
       "      <th>DEPARTAMENTO</th>\n",
       "      <th>MUNICIPIO</th>\n",
       "      <th>ESTABLECIMIENTO</th>\n",
       "      <th>DIRECCION</th>\n",
       "      <th>TELEFONO</th>\n",
       "      <th>SUPERVISOR</th>\n",
       "      <th>DIRECTOR</th>\n",
       "      <th>NIVEL</th>\n",
       "      <th>SECTOR</th>\n",
       "      <th>AREA</th>\n",
       "      <th>STATUS</th>\n",
       "      <th>MODALIDAD</th>\n",
       "      <th>JORNADA</th>\n",
       "      <th>PLAN</th>\n",
       "      <th>DEPARTAMENTAL</th>\n",
       "    </tr>\n",
       "  </thead>\n",
       "  <tbody>\n",
       "    <tr>\n",
       "      <th>59</th>\n",
       "      <td>16-01-1005-46</td>\n",
       "      <td>16-031</td>\n",
       "      <td>alta verapaz</td>\n",
       "      <td>coban</td>\n",
       "      <td>liceo chaab'il b'e</td>\n",
       "      <td>8a. avenida 4-39 zona 4</td>\n",
       "      <td>56969292</td>\n",
       "      <td>patricio najarro asencio</td>\n",
       "      <td>allan noel macz chiquin</td>\n",
       "      <td>diversificado</td>\n",
       "      <td>privado</td>\n",
       "      <td>urbana</td>\n",
       "      <td>abierta</td>\n",
       "      <td>monolingue</td>\n",
       "      <td>vespertina</td>\n",
       "      <td>virtual a distancia</td>\n",
       "      <td>alta verapaz</td>\n",
       "    </tr>\n",
       "  </tbody>\n",
       "</table>\n",
       "</div>"
      ],
      "text/plain": [
       "           CODIGO DISTRITO  DEPARTAMENTO MUNICIPIO     ESTABLECIMIENTO  \\\n",
       "59  16-01-1005-46   16-031  alta verapaz     coban  liceo chaab'il b'e   \n",
       "\n",
       "                  DIRECCION  TELEFONO                SUPERVISOR  \\\n",
       "59  8a. avenida 4-39 zona 4  56969292  patricio najarro asencio   \n",
       "\n",
       "                   DIRECTOR          NIVEL   SECTOR    AREA   STATUS  \\\n",
       "59  allan noel macz chiquin  diversificado  privado  urbana  abierta   \n",
       "\n",
       "     MODALIDAD     JORNADA                 PLAN DEPARTAMENTAL  \n",
       "59  monolingue  vespertina  virtual a distancia  alta verapaz  "
      ]
     },
     "execution_count": 334,
     "metadata": {},
     "output_type": "execute_result"
    }
   ],
   "source": [
    "#comillas en la palabra\n",
    "df[df['CODIGO'].str.contains('16-01-1005-46', case=False, na=False)]\n"
   ]
  },
  {
   "cell_type": "code",
   "execution_count": 335,
   "id": "a90ff008",
   "metadata": {},
   "outputs": [
    {
     "data": {
      "text/html": [
       "<div>\n",
       "<style scoped>\n",
       "    .dataframe tbody tr th:only-of-type {\n",
       "        vertical-align: middle;\n",
       "    }\n",
       "\n",
       "    .dataframe tbody tr th {\n",
       "        vertical-align: top;\n",
       "    }\n",
       "\n",
       "    .dataframe thead th {\n",
       "        text-align: right;\n",
       "    }\n",
       "</style>\n",
       "<table border=\"1\" class=\"dataframe\">\n",
       "  <thead>\n",
       "    <tr style=\"text-align: right;\">\n",
       "      <th></th>\n",
       "      <th>CODIGO</th>\n",
       "      <th>DISTRITO</th>\n",
       "      <th>DEPARTAMENTO</th>\n",
       "      <th>MUNICIPIO</th>\n",
       "      <th>ESTABLECIMIENTO</th>\n",
       "      <th>DIRECCION</th>\n",
       "      <th>TELEFONO</th>\n",
       "      <th>SUPERVISOR</th>\n",
       "      <th>DIRECTOR</th>\n",
       "      <th>NIVEL</th>\n",
       "      <th>SECTOR</th>\n",
       "      <th>AREA</th>\n",
       "      <th>STATUS</th>\n",
       "      <th>MODALIDAD</th>\n",
       "      <th>JORNADA</th>\n",
       "      <th>PLAN</th>\n",
       "      <th>DEPARTAMENTAL</th>\n",
       "    </tr>\n",
       "  </thead>\n",
       "  <tbody>\n",
       "    <tr>\n",
       "      <th>55</th>\n",
       "      <td>16-01-0994-46</td>\n",
       "      <td>16-050</td>\n",
       "      <td>alta verapaz</td>\n",
       "      <td>coban</td>\n",
       "      <td>centro de educacion extraescolar ceex</td>\n",
       "      <td>barrio chivencorral zona 12</td>\n",
       "      <td>49972934</td>\n",
       "      <td>maximiliano chub ical</td>\n",
       "      <td>henrry alexander de los santos mutz</td>\n",
       "      <td>diversificado</td>\n",
       "      <td>oficial</td>\n",
       "      <td>urbana</td>\n",
       "      <td>abierta</td>\n",
       "      <td>monolingue</td>\n",
       "      <td>doble</td>\n",
       "      <td>diario(regular)</td>\n",
       "      <td>alta verapaz</td>\n",
       "    </tr>\n",
       "  </tbody>\n",
       "</table>\n",
       "</div>"
      ],
      "text/plain": [
       "           CODIGO DISTRITO  DEPARTAMENTO MUNICIPIO  \\\n",
       "55  16-01-0994-46   16-050  alta verapaz     coban   \n",
       "\n",
       "                          ESTABLECIMIENTO                    DIRECCION  \\\n",
       "55  centro de educacion extraescolar ceex  barrio chivencorral zona 12   \n",
       "\n",
       "    TELEFONO             SUPERVISOR                             DIRECTOR  \\\n",
       "55  49972934  maximiliano chub ical  henrry alexander de los santos mutz   \n",
       "\n",
       "            NIVEL   SECTOR    AREA   STATUS   MODALIDAD JORNADA  \\\n",
       "55  diversificado  oficial  urbana  abierta  monolingue   doble   \n",
       "\n",
       "               PLAN DEPARTAMENTAL  \n",
       "55  diario(regular)  alta verapaz  "
      ]
     },
     "execution_count": 335,
     "metadata": {},
     "output_type": "execute_result"
    }
   ],
   "source": [
    "#guiones fuera de la palabra\n",
    "df[df['CODIGO'].str.contains('16-01-0994-46', case=False, na=False)]\n"
   ]
  },
  {
   "cell_type": "code",
   "execution_count": 336,
   "id": "e6565987",
   "metadata": {},
   "outputs": [
    {
     "data": {
      "text/html": [
       "<div>\n",
       "<style scoped>\n",
       "    .dataframe tbody tr th:only-of-type {\n",
       "        vertical-align: middle;\n",
       "    }\n",
       "\n",
       "    .dataframe tbody tr th {\n",
       "        vertical-align: top;\n",
       "    }\n",
       "\n",
       "    .dataframe thead th {\n",
       "        text-align: right;\n",
       "    }\n",
       "</style>\n",
       "<table border=\"1\" class=\"dataframe\">\n",
       "  <thead>\n",
       "    <tr style=\"text-align: right;\">\n",
       "      <th></th>\n",
       "      <th>CODIGO</th>\n",
       "      <th>DISTRITO</th>\n",
       "      <th>DEPARTAMENTO</th>\n",
       "      <th>MUNICIPIO</th>\n",
       "      <th>ESTABLECIMIENTO</th>\n",
       "      <th>DIRECCION</th>\n",
       "      <th>TELEFONO</th>\n",
       "      <th>SUPERVISOR</th>\n",
       "      <th>DIRECTOR</th>\n",
       "      <th>NIVEL</th>\n",
       "      <th>SECTOR</th>\n",
       "      <th>AREA</th>\n",
       "      <th>STATUS</th>\n",
       "      <th>MODALIDAD</th>\n",
       "      <th>JORNADA</th>\n",
       "      <th>PLAN</th>\n",
       "      <th>DEPARTAMENTAL</th>\n",
       "    </tr>\n",
       "  </thead>\n",
       "  <tbody>\n",
       "    <tr>\n",
       "      <th>57</th>\n",
       "      <td>16-01-1001-46</td>\n",
       "      <td>16-031</td>\n",
       "      <td>alta verapaz</td>\n",
       "      <td>coban</td>\n",
       "      <td>liceo dr. ricardo bressani</td>\n",
       "      <td>1a. avenida 5-56 zona 2</td>\n",
       "      <td>79521633</td>\n",
       "      <td>patricio najarro asencio</td>\n",
       "      <td>belsy claribel santisteban archila</td>\n",
       "      <td>diversificado</td>\n",
       "      <td>privado</td>\n",
       "      <td>urbana</td>\n",
       "      <td>abierta</td>\n",
       "      <td>monolingue</td>\n",
       "      <td>doble</td>\n",
       "      <td>virtual a distancia</td>\n",
       "      <td>alta verapaz</td>\n",
       "    </tr>\n",
       "  </tbody>\n",
       "</table>\n",
       "</div>"
      ],
      "text/plain": [
       "           CODIGO DISTRITO  DEPARTAMENTO MUNICIPIO  \\\n",
       "57  16-01-1001-46   16-031  alta verapaz     coban   \n",
       "\n",
       "               ESTABLECIMIENTO                DIRECCION  TELEFONO  \\\n",
       "57  liceo dr. ricardo bressani  1a. avenida 5-56 zona 2  79521633   \n",
       "\n",
       "                  SUPERVISOR                            DIRECTOR  \\\n",
       "57  patricio najarro asencio  belsy claribel santisteban archila   \n",
       "\n",
       "            NIVEL   SECTOR    AREA   STATUS   MODALIDAD JORNADA  \\\n",
       "57  diversificado  privado  urbana  abierta  monolingue   doble   \n",
       "\n",
       "                   PLAN DEPARTAMENTAL  \n",
       "57  virtual a distancia  alta verapaz  "
      ]
     },
     "execution_count": 336,
     "metadata": {},
     "output_type": "execute_result"
    }
   ],
   "source": [
    "#ej con abreviatura DR.\n",
    "df[df['CODIGO'].str.contains('16-01-1001-46', case=False, na=False)]"
   ]
  },
  {
   "cell_type": "code",
   "execution_count": 337,
   "id": "92377265",
   "metadata": {},
   "outputs": [
    {
     "name": "stdout",
     "output_type": "stream",
     "text": [
      "          CODIGO DISTRITO  DEPARTAMENTO MUNICIPIO  \\\n",
      "0  16-01-0138-46   16-031  alta verapaz     coban   \n",
      "1  16-01-0139-46   16-031  alta verapaz     coban   \n",
      "2  16-01-0140-46   16-031  alta verapaz     coban   \n",
      "3  16-01-0141-46   16-005  alta verapaz     coban   \n",
      "4  16-01-0142-46   16-005  alta verapaz     coban   \n",
      "\n",
      "                                     ESTABLECIMIENTO  \\\n",
      "0                                      colegio coban   \n",
      "1                   colegio particular mixto verapaz   \n",
      "2                              colegio la inmaculada   \n",
      "3           escuela nacional de ciencias comerciales   \n",
      "4  instituto normal mixto del norte 'emilio rosal...   \n",
      "\n",
      "                                DIRECCION  TELEFONO  \\\n",
      "0  km.2 salida a san juan chamelco zona 8  77945104   \n",
      "1            km 209.5 entrada a la ciudad  77367402   \n",
      "2               7a. avenida 11-109 zona 6  78232301   \n",
      "3                   2a calle 11-10 zona 2  79514215   \n",
      "4                     3a ave 6-23 zona 11  79521468   \n",
      "\n",
      "                        SUPERVISOR                        DIRECTOR  \\\n",
      "0         patricio najarro asencio       gustavo adolfo sierra pop   \n",
      "1         patricio najarro asencio  gilma dolores guay paz de leal   \n",
      "2         patricio najarro asencio         virginia solano serrano   \n",
      "3  nora liliana figueroa hernandez        hector rolando chun poou   \n",
      "4  nora liliana figueroa hernandez     victor hugo dominguez reyes   \n",
      "\n",
      "           NIVEL   SECTOR    AREA   STATUS   MODALIDAD     JORNADA  \\\n",
      "0  diversificado  privado  urbana  abierta  monolingue    matutina   \n",
      "1  diversificado  privado  urbana  abierta  monolingue    matutina   \n",
      "2  diversificado  privado  urbana  abierta  monolingue    matutina   \n",
      "3  diversificado  oficial  urbana  abierta  monolingue    matutina   \n",
      "4  diversificado  oficial  urbana  abierta    bilingue  vespertina   \n",
      "\n",
      "              PLAN DEPARTAMENTAL  \n",
      "0  diario(regular)  alta verapaz  \n",
      "1  diario(regular)  alta verapaz  \n",
      "2  diario(regular)  alta verapaz  \n",
      "3  diario(regular)  alta verapaz  \n",
      "4  diario(regular)  alta verapaz  \n"
     ]
    }
   ],
   "source": [
    "print(df.head())"
   ]
  },
  {
   "cell_type": "code",
   "execution_count": 339,
   "id": "d74d87c0",
   "metadata": {},
   "outputs": [],
   "source": [
    "#convertir todos los datos que dicen diver a dirversificado\n",
    "df['NIVEL'] = df['NIVEL'].replace(r'\\bdiver\\b', 'diversificado', regex=True)\n"
   ]
  },
  {
   "cell_type": "code",
   "execution_count": 340,
   "id": "c6d258b3",
   "metadata": {},
   "outputs": [
    {
     "data": {
      "text/plain": [
       "0    diversificado\n",
       "1    diversificado\n",
       "2    diversificado\n",
       "3    diversificado\n",
       "4    diversificado\n",
       "Name: NIVEL, dtype: object"
      ]
     },
     "execution_count": 340,
     "metadata": {},
     "output_type": "execute_result"
    }
   ],
   "source": [
    "df['NIVEL'].head()"
   ]
  }
 ],
 "metadata": {
  "kernelspec": {
   "display_name": "Python 3",
   "language": "python",
   "name": "python3"
  },
  "language_info": {
   "codemirror_mode": {
    "name": "ipython",
    "version": 3
   },
   "file_extension": ".py",
   "mimetype": "text/x-python",
   "name": "python",
   "nbconvert_exporter": "python",
   "pygments_lexer": "ipython3",
   "version": "3.12.8"
  }
 },
 "nbformat": 4,
 "nbformat_minor": 5
}
