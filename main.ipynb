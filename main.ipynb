{
 "cells": [
  {
   "cell_type": "markdown",
   "id": "07798c3d",
   "metadata": {},
   "source": [
    "# Proyecto 1\n",
    "\n",
    "Integrantes:\n",
    "- Francis Aguilar - 22243\n",
    "- César López - 22535\n",
    "- Angela García -22869\n"
   ]
  },
  {
   "cell_type": "code",
   "execution_count": 4,
   "id": "15fc6a9c",
   "metadata": {},
   "outputs": [],
   "source": [
    "import pandas as pd\n",
    "import numpy as np\n",
    "import sys\n",
    "import os\n",
    "import lxml"
   ]
  },
  {
   "cell_type": "code",
   "execution_count": 6,
   "id": "927e5d7b",
   "metadata": {},
   "outputs": [
    {
     "name": "stdout",
     "output_type": "stream",
     "text": [
      "Ya existe: ALTA VERAPAZ.csv, se omite.\n",
      "Ya existe: BAJA VERAPAZ.csv, se omite.\n",
      "Ya existe: CHIMALTENANGO.csv, se omite.\n",
      "Ya existe: CHIQUIMULA.csv, se omite.\n",
      "Ya existe: CIUDAD CAPITAL.csv, se omite.\n",
      "Ya existe: EL PROGRESO.csv, se omite.\n",
      "Ya existe: ESCUINTLA.csv, se omite.\n",
      "Ya existe: GUATEMALA.csv, se omite.\n",
      "Ya existe: HUEHUETENANGO.csv, se omite.\n",
      "Ya existe: IZABAL.csv, se omite.\n",
      "Ya existe: JALAPA.csv, se omite.\n",
      "Ya existe: JUTIAPA.csv, se omite.\n",
      "Ya existe: PETEN.csv, se omite.\n",
      "Ya existe: QUETZALTENANGO.csv, se omite.\n",
      "Ya existe: QUICHE.csv, se omite.\n",
      "Ya existe: RETALHULEU.csv, se omite.\n",
      "Ya existe: SACATEPEQUEZ.csv, se omite.\n",
      "Ya existe: SAN MARCOS.csv, se omite.\n",
      "Ya existe: SANTA ROSA.csv, se omite.\n",
      "Ya existe: SOLOLA.csv, se omite.\n",
      "Ya existe: SUCHITEPEQUEZ.csv, se omite.\n",
      "Ya existe: TOTONICAPAN.csv, se omite.\n",
      "Ya existe: ZACAPA.csv, se omite.\n",
      "Se finalizo la conversion\n"
     ]
    }
   ],
   "source": [
    "carpeta = 'xlss' \n",
    "carpeta_salida = 'data' \n",
    "os.makedirs(carpeta_salida, exist_ok=True)\n",
    "\n",
    "#nombres de las columnas esperadas\n",
    "columnas = [\n",
    "    'CODIGO', 'DISTRITO', 'DEPARTAMENTO', 'MUNICIPIO', 'ESTABLECIMIENTO',\n",
    "    'DIRECCION', 'TELEFONO', 'SUPERVISOR', 'DIRECTOR', 'NIVEL', 'SECTOR',\n",
    "    'AREA', 'STATUS', 'MODALIDAD', 'JORNADA', 'PLAN', 'DEPARTAMENTAL'\n",
    "]\n",
    "\n",
    "\n",
    "for archivo in os.listdir(carpeta):\n",
    "    if archivo.endswith(\".xls\"):\n",
    "        ruta_archivo = os.path.join(carpeta, archivo)\n",
    "        nombre_csv = os.path.splitext(archivo)[0] + \".csv\"\n",
    "        ruta_csv = os.path.join(carpeta_salida, nombre_csv)\n",
    "\n",
    "        if os.path.exists(ruta_csv):\n",
    "            print(f\"Ya existe: {nombre_csv}, se omite.\")\n",
    "            continue\n",
    "        try:\n",
    "            tablas = pd.read_html(ruta_archivo)\n",
    "            tabla_principal = max(tablas, key=lambda df: df.shape[1])\n",
    "\n",
    "            # reemplazar los nombres de columnas, porque sino sale con numeros del 1 al 17\n",
    "            if tabla_principal.shape[1] == len(columnas):\n",
    "                tabla_principal.columns = columnas\n",
    "                tabla_principal = tabla_principal.iloc[1:] # Eliminar la primera fila que suele ser un encabezado adicional\n",
    "            else:\n",
    "                print(f\"Columnas no coinciden en {archivo}, se omite renombrado.\")\n",
    "\n",
    "            tabla_principal.to_csv(ruta_csv, index=False)\n",
    "            print(f\"Convertido: {archivo} → {nombre_csv}\")\n",
    "\n",
    "        except Exception as e:\n",
    "            print(f\"Error al procesar {archivo}: {e}\")\n",
    "\n",
    "print(\"Se finalizo la conversion\")\n"
   ]
  },
  {
   "cell_type": "code",
   "execution_count": 7,
   "id": "05dc0cc6",
   "metadata": {},
   "outputs": [
    {
     "name": "stdout",
     "output_type": "stream",
     "text": [
      "Agregado: ALTA VERAPAZ.csv\n",
      "Agregado: BAJA VERAPAZ.csv\n",
      "Agregado: CHIMALTENANGO.csv\n",
      "Agregado: CHIQUIMULA.csv\n",
      "Agregado: CIUDAD CAPITAL.csv\n",
      "Agregado: EL PROGRESO.csv\n",
      "Agregado: ESCUINTLA.csv\n",
      "Agregado: GUATEMALA.csv\n",
      "Agregado: HUEHUETENANGO.csv\n",
      "Agregado: IZABAL.csv\n",
      "Agregado: JALAPA.csv\n",
      "Agregado: JUTIAPA.csv\n",
      "Agregado: PETEN.csv\n",
      "Agregado: QUETZALTENANGO.csv\n",
      "Agregado: QUICHE.csv\n",
      "Agregado: RETALHULEU.csv\n",
      "Agregado: SACATEPEQUEZ.csv\n",
      "Agregado: SAN MARCOS.csv\n",
      "Agregado: SANTA ROSA.csv\n",
      "Agregado: SOLOLA.csv\n",
      "Agregado: SUCHITEPEQUEZ.csv\n",
      "Agregado: TOTONICAPAN.csv\n",
      "Agregado: ZACAPA.csv\n",
      "CSV guardado : data.csv\n"
     ]
    }
   ],
   "source": [
    "# juntar los datos \n",
    "carpeta = 'data'\n",
    "csv_final = 'data.csv'\n",
    "\n",
    "dataframes=[]\n",
    "\n",
    "for archivo in os.listdir(carpeta):\n",
    "    if archivo.endswith('.csv'):\n",
    "        ruta = os.path.join(carpeta, archivo)\n",
    "        try:\n",
    "            df = pd.read_csv(ruta)\n",
    "            dataframes.append(df)\n",
    "            print(f\"Agregado: {archivo}\")\n",
    "        except Exception as e:\n",
    "            print(f\"Error en {archivo}: {e}\")\n",
    "\n",
    "#concatenar los dfs\n",
    "df_consolidado = pd.concat(dataframes, ignore_index=True)\n",
    "\n",
    "#guardar\n",
    "df_consolidado.to_csv(csv_final, index=False)\n",
    "print(f\"CSV guardado : {csv_final}\")"
   ]
  },
  {
   "cell_type": "code",
   "execution_count": 8,
   "id": "1ec7b70f",
   "metadata": {},
   "outputs": [
    {
     "data": {
      "text/html": [
       "<div>\n",
       "<style scoped>\n",
       "    .dataframe tbody tr th:only-of-type {\n",
       "        vertical-align: middle;\n",
       "    }\n",
       "\n",
       "    .dataframe tbody tr th {\n",
       "        vertical-align: top;\n",
       "    }\n",
       "\n",
       "    .dataframe thead th {\n",
       "        text-align: right;\n",
       "    }\n",
       "</style>\n",
       "<table border=\"1\" class=\"dataframe\">\n",
       "  <thead>\n",
       "    <tr style=\"text-align: right;\">\n",
       "      <th></th>\n",
       "      <th>CODIGO</th>\n",
       "      <th>DISTRITO</th>\n",
       "      <th>DEPARTAMENTO</th>\n",
       "      <th>MUNICIPIO</th>\n",
       "      <th>ESTABLECIMIENTO</th>\n",
       "      <th>DIRECCION</th>\n",
       "      <th>TELEFONO</th>\n",
       "      <th>SUPERVISOR</th>\n",
       "      <th>DIRECTOR</th>\n",
       "      <th>NIVEL</th>\n",
       "      <th>SECTOR</th>\n",
       "      <th>AREA</th>\n",
       "      <th>STATUS</th>\n",
       "      <th>MODALIDAD</th>\n",
       "      <th>JORNADA</th>\n",
       "      <th>PLAN</th>\n",
       "      <th>DEPARTAMENTAL</th>\n",
       "    </tr>\n",
       "  </thead>\n",
       "  <tbody>\n",
       "    <tr>\n",
       "      <th>count</th>\n",
       "      <td>6599</td>\n",
       "      <td>6599</td>\n",
       "      <td>6599</td>\n",
       "      <td>6599</td>\n",
       "      <td>6599</td>\n",
       "      <td>6597</td>\n",
       "      <td>6553</td>\n",
       "      <td>6599</td>\n",
       "      <td>6573</td>\n",
       "      <td>6599</td>\n",
       "      <td>6599</td>\n",
       "      <td>6599</td>\n",
       "      <td>6599</td>\n",
       "      <td>6599</td>\n",
       "      <td>6599</td>\n",
       "      <td>6599</td>\n",
       "      <td>6599</td>\n",
       "    </tr>\n",
       "    <tr>\n",
       "      <th>unique</th>\n",
       "      <td>6599</td>\n",
       "      <td>622</td>\n",
       "      <td>23</td>\n",
       "      <td>343</td>\n",
       "      <td>3786</td>\n",
       "      <td>4433</td>\n",
       "      <td>4215</td>\n",
       "      <td>599</td>\n",
       "      <td>3863</td>\n",
       "      <td>1</td>\n",
       "      <td>4</td>\n",
       "      <td>3</td>\n",
       "      <td>1</td>\n",
       "      <td>2</td>\n",
       "      <td>6</td>\n",
       "      <td>12</td>\n",
       "      <td>26</td>\n",
       "    </tr>\n",
       "    <tr>\n",
       "      <th>top</th>\n",
       "      <td>16-01-0138-46</td>\n",
       "      <td>01-403</td>\n",
       "      <td>GUATEMALA</td>\n",
       "      <td>ZONA 1</td>\n",
       "      <td>INSTITUTO NACIONAL DE EDUCACION DIVERSIFICADA</td>\n",
       "      <td>CABECERA MUNICIPAL</td>\n",
       "      <td>22093200.0</td>\n",
       "      <td>MIGUEL ANGEL ARMAS ROCHA</td>\n",
       "      <td>MARÍA DOLORES PÉREZ TUCHÁN</td>\n",
       "      <td>DIVERSIFICADO</td>\n",
       "      <td>PRIVADO</td>\n",
       "      <td>URBANA</td>\n",
       "      <td>ABIERTA</td>\n",
       "      <td>MONOLINGUE</td>\n",
       "      <td>DOBLE</td>\n",
       "      <td>DIARIO(REGULAR)</td>\n",
       "      <td>GUATEMALA OCCIDENTE</td>\n",
       "    </tr>\n",
       "    <tr>\n",
       "      <th>freq</th>\n",
       "      <td>1</td>\n",
       "      <td>160</td>\n",
       "      <td>1038</td>\n",
       "      <td>302</td>\n",
       "      <td>286</td>\n",
       "      <td>199</td>\n",
       "      <td>12</td>\n",
       "      <td>190</td>\n",
       "      <td>10</td>\n",
       "      <td>6599</td>\n",
       "      <td>5417</td>\n",
       "      <td>5249</td>\n",
       "      <td>6599</td>\n",
       "      <td>6390</td>\n",
       "      <td>1957</td>\n",
       "      <td>4051</td>\n",
       "      <td>551</td>\n",
       "    </tr>\n",
       "  </tbody>\n",
       "</table>\n",
       "</div>"
      ],
      "text/plain": [
       "               CODIGO DISTRITO DEPARTAMENTO MUNICIPIO  \\\n",
       "count            6599     6599         6599      6599   \n",
       "unique           6599      622           23       343   \n",
       "top     16-01-0138-46   01-403    GUATEMALA    ZONA 1   \n",
       "freq                1      160         1038       302   \n",
       "\n",
       "                                      ESTABLECIMIENTO           DIRECCION  \\\n",
       "count                                            6599                6597   \n",
       "unique                                           3786                4433   \n",
       "top     INSTITUTO NACIONAL DE EDUCACION DIVERSIFICADA  CABECERA MUNICIPAL   \n",
       "freq                                              286                 199   \n",
       "\n",
       "          TELEFONO                SUPERVISOR                    DIRECTOR  \\\n",
       "count         6553                      6599                        6573   \n",
       "unique        4215                       599                        3863   \n",
       "top     22093200.0  MIGUEL ANGEL ARMAS ROCHA  MARÍA DOLORES PÉREZ TUCHÁN   \n",
       "freq            12                       190                          10   \n",
       "\n",
       "                NIVEL   SECTOR    AREA   STATUS   MODALIDAD JORNADA  \\\n",
       "count            6599     6599    6599     6599        6599    6599   \n",
       "unique              1        4       3        1           2       6   \n",
       "top     DIVERSIFICADO  PRIVADO  URBANA  ABIERTA  MONOLINGUE   DOBLE   \n",
       "freq             6599     5417    5249     6599        6390    1957   \n",
       "\n",
       "                   PLAN        DEPARTAMENTAL  \n",
       "count              6599                 6599  \n",
       "unique               12                   26  \n",
       "top     DIARIO(REGULAR)  GUATEMALA OCCIDENTE  \n",
       "freq               4051                  551  "
      ]
     },
     "execution_count": 8,
     "metadata": {},
     "output_type": "execute_result"
    }
   ],
   "source": [
    "\n",
    "df = pd.read_csv(csv_final)\n",
    "\n",
    "#describir el set de datos\n",
    "df.describe(include='all')\n",
    "\n"
   ]
  },
  {
   "cell_type": "code",
   "execution_count": 9,
   "id": "db2881ec",
   "metadata": {},
   "outputs": [
    {
     "name": "stdout",
     "output_type": "stream",
     "text": [
      "Cantidad de filas en el set de datos:\n",
      "6622\n",
      "------------------------------------------------------------------------------------------------------------------------------------------------------\n",
      "Cantidad de variables en el set de datos:\n",
      "17\n"
     ]
    }
   ],
   "source": [
    "#filas de datos\n",
    "print(\"Cantidad de filas en el set de datos:\")\n",
    "print(df.shape[0])\n",
    "\n",
    "print(\"-\"*150)\n",
    "#cuantas variables tiene el set de datos\n",
    "print(\"Cantidad de variables en el set de datos:\")\n",
    "print(df.shape[1])"
   ]
  },
  {
   "cell_type": "markdown",
   "id": "93642295",
   "metadata": {},
   "source": [
    "### Exploración de datos"
   ]
  },
  {
   "cell_type": "code",
   "execution_count": 10,
   "id": "00952c0d",
   "metadata": {},
   "outputs": [
    {
     "name": "stdout",
     "output_type": "stream",
     "text": [
      "          CODIGO DISTRITO  DEPARTAMENTO MUNICIPIO  \\\n",
      "0  16-01-0138-46   16-031  ALTA VERAPAZ     COBAN   \n",
      "1  16-01-0139-46   16-031  ALTA VERAPAZ     COBAN   \n",
      "2  16-01-0140-46   16-031  ALTA VERAPAZ     COBAN   \n",
      "3  16-01-0141-46   16-005  ALTA VERAPAZ     COBAN   \n",
      "4  16-01-0142-46   16-005  ALTA VERAPAZ     COBAN   \n",
      "\n",
      "                                     ESTABLECIMIENTO  \\\n",
      "0                                      COLEGIO COBAN   \n",
      "1                   COLEGIO PARTICULAR MIXTO VERAPAZ   \n",
      "2                            COLEGIO \"LA INMACULADA\"   \n",
      "3           ESCUELA NACIONAL DE CIENCIAS COMERCIALES   \n",
      "4  INSTITUTO NORMAL MIXTO DEL NORTE 'EMILIO ROSAL...   \n",
      "\n",
      "                                DIRECCION  TELEFONO  \\\n",
      "0  KM.2 SALIDA A SAN JUAN CHAMELCO ZONA 8  77945104   \n",
      "1            KM 209.5 ENTRADA A LA CIUDAD  77367402   \n",
      "2               7A. AVENIDA 11-109 ZONA 6  78232301   \n",
      "3                   2A CALLE 11-10 ZONA 2  79514215   \n",
      "4                     3A AVE 6-23 ZONA 11  79521468   \n",
      "\n",
      "                        SUPERVISOR                        DIRECTOR  \\\n",
      "0         PATRICIO NAJARRO ASENCIO       GUSTAVO ADOLFO SIERRA POP   \n",
      "1         PATRICIO NAJARRO ASENCIO  GILMA DOLORES GUAY PAZ DE LEAL   \n",
      "2         PATRICIO NAJARRO ASENCIO         VIRGINIA SOLANO SERRANO   \n",
      "3  NORA LILIANA FIGUEROA HERNÁNDEZ        HÉCTOR ROLANDO CHUN POOU   \n",
      "4  NORA LILIANA FIGUEROA HERNÁNDEZ     VICTOR HUGO DOMÍNGUEZ REYES   \n",
      "\n",
      "           NIVEL   SECTOR    AREA   STATUS   MODALIDAD     JORNADA  \\\n",
      "0  DIVERSIFICADO  PRIVADO  URBANA  ABIERTA  MONOLINGUE    MATUTINA   \n",
      "1  DIVERSIFICADO  PRIVADO  URBANA  ABIERTA  MONOLINGUE    MATUTINA   \n",
      "2  DIVERSIFICADO  PRIVADO  URBANA  ABIERTA  MONOLINGUE    MATUTINA   \n",
      "3  DIVERSIFICADO  OFICIAL  URBANA  ABIERTA  MONOLINGUE    MATUTINA   \n",
      "4  DIVERSIFICADO  OFICIAL  URBANA  ABIERTA    BILINGUE  VESPERTINA   \n",
      "\n",
      "              PLAN DEPARTAMENTAL  \n",
      "0  DIARIO(REGULAR)  ALTA VERAPAZ  \n",
      "1  DIARIO(REGULAR)  ALTA VERAPAZ  \n",
      "2  DIARIO(REGULAR)  ALTA VERAPAZ  \n",
      "3  DIARIO(REGULAR)  ALTA VERAPAZ  \n",
      "4  DIARIO(REGULAR)  ALTA VERAPAZ  \n"
     ]
    }
   ],
   "source": [
    "print(df.head())"
   ]
  },
  {
   "cell_type": "code",
   "execution_count": 11,
   "id": "e673686c",
   "metadata": {},
   "outputs": [
    {
     "name": "stdout",
     "output_type": "stream",
     "text": [
      "<class 'pandas.core.frame.DataFrame'>\n",
      "RangeIndex: 6622 entries, 0 to 6621\n",
      "Data columns (total 17 columns):\n",
      " #   Column           Non-Null Count  Dtype \n",
      "---  ------           --------------  ----- \n",
      " 0   CODIGO           6599 non-null   object\n",
      " 1   DISTRITO         6599 non-null   object\n",
      " 2   DEPARTAMENTO     6599 non-null   object\n",
      " 3   MUNICIPIO        6599 non-null   object\n",
      " 4   ESTABLECIMIENTO  6599 non-null   object\n",
      " 5   DIRECCION        6597 non-null   object\n",
      " 6   TELEFONO         6553 non-null   object\n",
      " 7   SUPERVISOR       6599 non-null   object\n",
      " 8   DIRECTOR         6573 non-null   object\n",
      " 9   NIVEL            6599 non-null   object\n",
      " 10  SECTOR           6599 non-null   object\n",
      " 11  AREA             6599 non-null   object\n",
      " 12  STATUS           6599 non-null   object\n",
      " 13  MODALIDAD        6599 non-null   object\n",
      " 14  JORNADA          6599 non-null   object\n",
      " 15  PLAN             6599 non-null   object\n",
      " 16  DEPARTAMENTAL    6599 non-null   object\n",
      "dtypes: object(17)\n",
      "memory usage: 879.6+ KB\n",
      "None\n"
     ]
    }
   ],
   "source": [
    "print(df.info())"
   ]
  },
  {
   "cell_type": "code",
   "execution_count": 12,
   "id": "26fd198f",
   "metadata": {},
   "outputs": [
    {
     "name": "stdout",
     "output_type": "stream",
     "text": [
      "               CODIGO DISTRITO DEPARTAMENTO MUNICIPIO  \\\n",
      "count            6599     6599         6599      6599   \n",
      "unique           6599      622           23       343   \n",
      "top     16-01-0138-46   01-403    GUATEMALA    ZONA 1   \n",
      "freq                1      160         1038       302   \n",
      "\n",
      "                                      ESTABLECIMIENTO           DIRECCION  \\\n",
      "count                                            6599                6597   \n",
      "unique                                           3786                4433   \n",
      "top     INSTITUTO NACIONAL DE EDUCACION DIVERSIFICADA  CABECERA MUNICIPAL   \n",
      "freq                                              286                 199   \n",
      "\n",
      "          TELEFONO                SUPERVISOR                    DIRECTOR  \\\n",
      "count         6553                      6599                        6573   \n",
      "unique        4215                       599                        3863   \n",
      "top     22093200.0  MIGUEL ANGEL ARMAS ROCHA  MARÍA DOLORES PÉREZ TUCHÁN   \n",
      "freq            12                       190                          10   \n",
      "\n",
      "                NIVEL   SECTOR    AREA   STATUS   MODALIDAD JORNADA  \\\n",
      "count            6599     6599    6599     6599        6599    6599   \n",
      "unique              1        4       3        1           2       6   \n",
      "top     DIVERSIFICADO  PRIVADO  URBANA  ABIERTA  MONOLINGUE   DOBLE   \n",
      "freq             6599     5417    5249     6599        6390    1957   \n",
      "\n",
      "                   PLAN        DEPARTAMENTAL  \n",
      "count              6599                 6599  \n",
      "unique               12                   26  \n",
      "top     DIARIO(REGULAR)  GUATEMALA OCCIDENTE  \n",
      "freq               4051                  551  \n"
     ]
    }
   ],
   "source": [
    "print(df.describe(include='all'))"
   ]
  },
  {
   "cell_type": "code",
   "execution_count": 13,
   "id": "bc53ecd9",
   "metadata": {},
   "outputs": [
    {
     "name": "stdout",
     "output_type": "stream",
     "text": [
      "CODIGO             object\n",
      "DISTRITO           object\n",
      "DEPARTAMENTO       object\n",
      "MUNICIPIO          object\n",
      "ESTABLECIMIENTO    object\n",
      "DIRECCION          object\n",
      "TELEFONO           object\n",
      "SUPERVISOR         object\n",
      "DIRECTOR           object\n",
      "NIVEL              object\n",
      "SECTOR             object\n",
      "AREA               object\n",
      "STATUS             object\n",
      "MODALIDAD          object\n",
      "JORNADA            object\n",
      "PLAN               object\n",
      "DEPARTAMENTAL      object\n",
      "dtype: object\n"
     ]
    }
   ],
   "source": [
    "print(df.dtypes)"
   ]
  },
  {
   "cell_type": "code",
   "execution_count": 14,
   "id": "42d3deac",
   "metadata": {},
   "outputs": [
    {
     "name": "stdout",
     "output_type": "stream",
     "text": [
      "CODIGO             23\n",
      "DISTRITO           23\n",
      "DEPARTAMENTO       23\n",
      "MUNICIPIO          23\n",
      "ESTABLECIMIENTO    23\n",
      "DIRECCION          25\n",
      "TELEFONO           69\n",
      "SUPERVISOR         23\n",
      "DIRECTOR           49\n",
      "NIVEL              23\n",
      "SECTOR             23\n",
      "AREA               23\n",
      "STATUS             23\n",
      "MODALIDAD          23\n",
      "JORNADA            23\n",
      "PLAN               23\n",
      "DEPARTAMENTAL      23\n",
      "dtype: int64\n"
     ]
    }
   ],
   "source": [
    "print(df.isnull().sum())"
   ]
  },
  {
   "cell_type": "code",
   "execution_count": 15,
   "id": "43fbbeb3",
   "metadata": {},
   "outputs": [
    {
     "name": "stdout",
     "output_type": "stream",
     "text": [
      "Duplicados: 22\n"
     ]
    }
   ],
   "source": [
    "print(f\"Duplicados: {df.duplicated().sum()}\")\n"
   ]
  },
  {
   "cell_type": "code",
   "execution_count": 16,
   "id": "39b4606c",
   "metadata": {},
   "outputs": [
    {
     "name": "stdout",
     "output_type": "stream",
     "text": [
      "CODIGO             6599\n",
      "DISTRITO            622\n",
      "DEPARTAMENTO         23\n",
      "MUNICIPIO           343\n",
      "ESTABLECIMIENTO    3786\n",
      "DIRECCION          4433\n",
      "TELEFONO           4215\n",
      "SUPERVISOR          599\n",
      "DIRECTOR           3863\n",
      "NIVEL                 1\n",
      "SECTOR                4\n",
      "AREA                  3\n",
      "STATUS                1\n",
      "MODALIDAD             2\n",
      "JORNADA               6\n",
      "PLAN                 12\n",
      "DEPARTAMENTAL        26\n",
      "dtype: int64\n"
     ]
    }
   ],
   "source": [
    "print(df.nunique())"
   ]
  },
  {
   "cell_type": "code",
   "execution_count": 22,
   "id": "c4390c58",
   "metadata": {},
   "outputs": [
    {
     "data": {
      "image/png": "[encoded data removed]",
      "text/plain": [
       "<Figure size 1200x600 with 1 Axes>"
      ]
     },
     "metadata": {},
     "output_type": "display_data"
    }
   ],
   "source": [
    "# CANtidad de registros por departamento\n",
    "import matplotlib.pyplot as plt\n",
    "import seaborn as sns\n",
    "\n",
    "plt.figure(figsize=(12,6))\n",
    "sns.countplot(data=df, x='DEPARTAMENTO', order=df['DEPARTAMENTO'].value_counts().index)\n",
    "plt.xticks(rotation=90)\n",
    "plt.title('Distribución de registros por departamento')\n",
    "plt.xlabel('Departamento')\n",
    "plt.ylabel('Cantidad de registros')\n",
    "plt.tight_layout()\n",
    "plt.show()"
   ]
  },
  {
   "cell_type": "markdown",
   "id": "df9e22c0",
   "metadata": {},
   "source": [
    "# Limpieza de datos"
   ]
  },
  {
   "cell_type": "code",
   "execution_count": 17,
   "id": "4cdf0ee7",
   "metadata": {},
   "outputs": [],
   "source": [
    "#borrar loda datos duplicados\n",
    "df.drop_duplicates(inplace=True)"
   ]
  },
  {
   "cell_type": "code",
   "execution_count": 18,
   "id": "2986b478",
   "metadata": {},
   "outputs": [
    {
     "name": "stdout",
     "output_type": "stream",
     "text": [
      "Duplicados: 0\n"
     ]
    }
   ],
   "source": [
    "print(f\"Duplicados: {df.duplicated().sum()}\")"
   ]
  },
  {
   "cell_type": "code",
   "execution_count": 19,
   "id": "9e3f466a",
   "metadata": {},
   "outputs": [],
   "source": [
    "#convertir todos los datos que son string a lowecase\n",
    "for col in df.select_dtypes(include='object').columns:\n",
    "    df[col] = df[col].str.lower()"
   ]
  },
  {
   "cell_type": "code",
   "execution_count": 20,
   "id": "58916436",
   "metadata": {},
   "outputs": [
    {
     "name": "stdout",
     "output_type": "stream",
     "text": [
      "          CODIGO DISTRITO  DEPARTAMENTO MUNICIPIO  \\\n",
      "0  16-01-0138-46   16-031  alta verapaz     coban   \n",
      "1  16-01-0139-46   16-031  alta verapaz     coban   \n",
      "2  16-01-0140-46   16-031  alta verapaz     coban   \n",
      "3  16-01-0141-46   16-005  alta verapaz     coban   \n",
      "4  16-01-0142-46   16-005  alta verapaz     coban   \n",
      "\n",
      "                                     ESTABLECIMIENTO  \\\n",
      "0                                      colegio coban   \n",
      "1                   colegio particular mixto verapaz   \n",
      "2                            colegio \"la inmaculada\"   \n",
      "3           escuela nacional de ciencias comerciales   \n",
      "4  instituto normal mixto del norte 'emilio rosal...   \n",
      "\n",
      "                                DIRECCION  TELEFONO  \\\n",
      "0  km.2 salida a san juan chamelco zona 8  77945104   \n",
      "1            km 209.5 entrada a la ciudad  77367402   \n",
      "2               7a. avenida 11-109 zona 6  78232301   \n",
      "3                   2a calle 11-10 zona 2  79514215   \n",
      "4                     3a ave 6-23 zona 11  79521468   \n",
      "\n",
      "                        SUPERVISOR                        DIRECTOR  \\\n",
      "0         patricio najarro asencio       gustavo adolfo sierra pop   \n",
      "1         patricio najarro asencio  gilma dolores guay paz de leal   \n",
      "2         patricio najarro asencio         virginia solano serrano   \n",
      "3  nora liliana figueroa hernández        héctor rolando chun poou   \n",
      "4  nora liliana figueroa hernández     victor hugo domínguez reyes   \n",
      "\n",
      "           NIVEL   SECTOR    AREA   STATUS   MODALIDAD     JORNADA  \\\n",
      "0  diversificado  privado  urbana  abierta  monolingue    matutina   \n",
      "1  diversificado  privado  urbana  abierta  monolingue    matutina   \n",
      "2  diversificado  privado  urbana  abierta  monolingue    matutina   \n",
      "3  diversificado  oficial  urbana  abierta  monolingue    matutina   \n",
      "4  diversificado  oficial  urbana  abierta    bilingue  vespertina   \n",
      "\n",
      "              PLAN DEPARTAMENTAL  \n",
      "0  diario(regular)  alta verapaz  \n",
      "1  diario(regular)  alta verapaz  \n",
      "2  diario(regular)  alta verapaz  \n",
      "3  diario(regular)  alta verapaz  \n",
      "4  diario(regular)  alta verapaz  \n"
     ]
    }
   ],
   "source": [
    "print(df.head())"
   ]
  },
  {
   "cell_type": "code",
   "execution_count": 23,
   "id": "c729fb16",
   "metadata": {},
   "outputs": [
    {
     "name": "stdout",
     "output_type": "stream",
     "text": [
      "Filas antes de quitar valores faltantes: 6600\n",
      "Filas después de quitar valores faltantes: 6538\n"
     ]
    }
   ],
   "source": [
    "#quitar valores faltantes\n",
    "print(f\"Filas valores faltantes: {df.shape[0]}\")\n",
    "df.dropna(inplace=True)\n",
    "\n",
    "print(f\"Filas después de quitar valores faltantes: {df.shape[0]}\")"
   ]
  },
  {
   "cell_type": "code",
   "execution_count": 24,
   "id": "3f4a951e",
   "metadata": {},
   "outputs": [
    {
     "data": {
      "image/png": "[encoded data removed]",
      "text/plain": [
       "<Figure size 1200x600 with 1 Axes>"
      ]
     },
     "metadata": {},
     "output_type": "display_data"
    }
   ],
   "source": [
    "# ver de nuevo la distribucion\n",
    "plt.figure(figsize=(12,6))\n",
    "sns.countplot(data=df, x='DEPARTAMENTO', order=df['DEPARTAMENTO'].value_counts().index)\n",
    "plt.xticks(rotation=90)\n",
    "plt.title('Distribución de registros por departamento')\n",
    "plt.xlabel('Departamento')\n",
    "plt.ylabel('Cantidad de registros')\n",
    "plt.tight_layout()\n",
    "plt.show()"
   ]
  },
  {
   "cell_type": "code",
   "execution_count": null,
   "id": "1cdb37e1",
   "metadata": {},
   "outputs": [],
   "source": [
    "# quitar las tildes de de los datos cualitativos y los que no cumplan con el coso ascii y normalizacion ocon unicode para separar letras de sus acentos o caracteres especiales.\n",
    "for col in df.select_dtypes(include='object').columns:\n",
    "    df[col] = df[col].str.normalize('NFKD').str.encode('ascii', errors='ignore').str.decode('utf-8')"
   ]
  },
  {
   "cell_type": "code",
   "execution_count": 27,
   "id": "39423b05",
   "metadata": {},
   "outputs": [
    {
     "name": "stdout",
     "output_type": "stream",
     "text": [
      "          CODIGO DISTRITO  DEPARTAMENTO MUNICIPIO  \\\n",
      "0  16-01-0138-46   16-031  alta verapaz     coban   \n",
      "1  16-01-0139-46   16-031  alta verapaz     coban   \n",
      "2  16-01-0140-46   16-031  alta verapaz     coban   \n",
      "3  16-01-0141-46   16-005  alta verapaz     coban   \n",
      "4  16-01-0142-46   16-005  alta verapaz     coban   \n",
      "\n",
      "                                     ESTABLECIMIENTO  \\\n",
      "0                                      colegio coban   \n",
      "1                   colegio particular mixto verapaz   \n",
      "2                            colegio \"la inmaculada\"   \n",
      "3           escuela nacional de ciencias comerciales   \n",
      "4  instituto normal mixto del norte 'emilio rosal...   \n",
      "\n",
      "                                DIRECCION  TELEFONO  \\\n",
      "0  km.2 salida a san juan chamelco zona 8  77945104   \n",
      "1            km 209.5 entrada a la ciudad  77367402   \n",
      "2               7a. avenida 11-109 zona 6  78232301   \n",
      "3                   2a calle 11-10 zona 2  79514215   \n",
      "4                     3a ave 6-23 zona 11  79521468   \n",
      "\n",
      "                        SUPERVISOR                        DIRECTOR  \\\n",
      "0         patricio najarro asencio       gustavo adolfo sierra pop   \n",
      "1         patricio najarro asencio  gilma dolores guay paz de leal   \n",
      "2         patricio najarro asencio         virginia solano serrano   \n",
      "3  nora liliana figueroa hernandez        hector rolando chun poou   \n",
      "4  nora liliana figueroa hernandez     victor hugo dominguez reyes   \n",
      "\n",
      "           NIVEL   SECTOR    AREA   STATUS   MODALIDAD     JORNADA  \\\n",
      "0  diversificado  privado  urbana  abierta  monolingue    matutina   \n",
      "1  diversificado  privado  urbana  abierta  monolingue    matutina   \n",
      "2  diversificado  privado  urbana  abierta  monolingue    matutina   \n",
      "3  diversificado  oficial  urbana  abierta  monolingue    matutina   \n",
      "4  diversificado  oficial  urbana  abierta    bilingue  vespertina   \n",
      "\n",
      "              PLAN DEPARTAMENTAL  \n",
      "0  diario(regular)  alta verapaz  \n",
      "1  diario(regular)  alta verapaz  \n",
      "2  diario(regular)  alta verapaz  \n",
      "3  diario(regular)  alta verapaz  \n",
      "4  diario(regular)  alta verapaz  \n"
     ]
    }
   ],
   "source": [
    "print(df.head())"
   ]
  },
  {
   "cell_type": "code",
   "execution_count": 28,
   "id": "542812ce",
   "metadata": {},
   "outputs": [],
   "source": [
    "# quitar las dobles comillas o transcripciones\n",
    "for col in df.select_dtypes(include='object').columns:\n",
    "    df[col] = df[col].str.replace('\"', '').str.replace(\"'\", \"\")"
   ]
  }
 ],
 "metadata": {
  "kernelspec": {
   "display_name": "Python 3",
   "language": "python",
   "name": "python3"
  },
  "language_info": {
   "codemirror_mode": {
    "name": "ipython",
    "version": 3
   },
   "file_extension": ".py",
   "mimetype": "text/x-python",
   "name": "python",
   "nbconvert_exporter": "python",
   "pygments_lexer": "ipython3",
   "version": "3.12.8"
  }
 },
 "nbformat": 4,
 "nbformat_minor": 5
}
